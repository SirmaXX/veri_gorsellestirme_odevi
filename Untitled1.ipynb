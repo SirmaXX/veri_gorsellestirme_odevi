{
  "nbformat": 4,
  "nbformat_minor": 0,
  "metadata": {
    "colab": {
      "provenance": [],
      "authorship_tag": "ABX9TyNPbGhKC8nFmd5lupDFMRBk",
      "include_colab_link": true
    },
    "kernelspec": {
      "name": "python3",
      "display_name": "Python 3"
    },
    "language_info": {
      "name": "python"
    }
  },
  "cells": [
    {
      "cell_type": "markdown",
      "metadata": {
        "id": "view-in-github",
        "colab_type": "text"
      },
      "source": [
        "<a href=\"https://colab.research.google.com/github/SirmaXX/veri_gorsellestirme_odevi/blob/main/Untitled1.ipynb\" target=\"_parent\"><img src=\"https://colab.research.google.com/assets/colab-badge.svg\" alt=\"Open In Colab\"/></a>"
      ]
    },
    {
      "cell_type": "code",
      "execution_count": 2,
      "metadata": {
        "colab": {
          "base_uri": "https://localhost:8080/"
        },
        "id": "5x8gnBIOWanF",
        "outputId": "de2cc119-4042-4528-8a10-bd56f980a2c6"
      },
      "outputs": [
        {
          "output_type": "stream",
          "name": "stdout",
          "text": [
            "Bir sayı giriniz : \n",
            "13\n",
            "\n",
            "13 sayısı asal sayıdır.\n"
          ]
        }
      ],
      "source": [
        "print(\"Bir sayı giriniz : \")\n",
        "num = int(input())\n",
        "\n",
        "a = 0\n",
        "b = 2\n",
        "while b<num:\n",
        "    if num%b == 0:\n",
        "        a = 1\n",
        "        break\n",
        "    b = b+1\n",
        "\n",
        "if a==0:\n",
        "    print(\"\\n\" +str(num)+ \" sayısı asal sayıdır.\")\n",
        "else:\n",
        "    print(\"\\n\" +str(num)+ \" sayısı asal sayı değildir.\")"
      ]
    }
  ]
}