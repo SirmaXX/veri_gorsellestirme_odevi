{
  "nbformat": 4,
  "nbformat_minor": 0,
  "metadata": {
    "colab": {
      "provenance": [],
      "authorship_tag": "ABX9TyMPrlpmguUd9N7aK0Kyws1w",
      "include_colab_link": true
    },
    "kernelspec": {
      "name": "python3",
      "display_name": "Python 3"
    },
    "language_info": {
      "name": "python"
    }
  },
  "cells": [
    {
      "cell_type": "markdown",
      "metadata": {
        "id": "view-in-github",
        "colab_type": "text"
      },
      "source": [
        "<a href=\"https://colab.research.google.com/github/SirmaXX/veri_gorsellestirme_odevi/blob/main/Untitled2.ipynb\" target=\"_parent\"><img src=\"https://colab.research.google.com/assets/colab-badge.svg\" alt=\"Open In Colab\"/></a>"
      ]
    },
    {
      "cell_type": "code",
      "execution_count": 2,
      "metadata": {
        "colab": {
          "base_uri": "https://localhost:8080/"
        },
        "id": "ZIrjSl3pXrnS",
        "outputId": "141b430b-44e2-4ed0-a948-a1aa5d0fcec5"
      },
      "outputs": [
        {
          "output_type": "execute_result",
          "data": {
            "text/plain": [
              "array([[58, 60, 87, 42, 89, 68],\n",
              "       [11, 70,  5, 86, 49, 74],\n",
              "       [30, 22, 14,  8, 38,  7],\n",
              "       [26, 65, 54, 71, 83, 16],\n",
              "       [74, 41, 45, 74, 15, 66],\n",
              "       [79,  6, 56, 18, 80, 56],\n",
              "       [48, 46, 45, 69, 33, 42],\n",
              "       [36, 64, 61, 26, 61, 70]])"
            ]
          },
          "metadata": {},
          "execution_count": 2
        }
      ],
      "source": [
        "import numpy as np\n",
        "sayi=np.random.randint(1,90, size=(8,6))\n",
        "sayi"
      ]
    }
  ]
}