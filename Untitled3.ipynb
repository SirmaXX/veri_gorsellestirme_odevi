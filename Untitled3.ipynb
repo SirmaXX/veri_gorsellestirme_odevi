{
  "nbformat": 4,
  "nbformat_minor": 0,
  "metadata": {
    "colab": {
      "provenance": [],
      "authorship_tag": "ABX9TyPdwn/VkLzRkkvuRk3l1EX/",
      "include_colab_link": true
    },
    "kernelspec": {
      "name": "python3",
      "display_name": "Python 3"
    },
    "language_info": {
      "name": "python"
    }
  },
  "cells": [
    {
      "cell_type": "markdown",
      "metadata": {
        "id": "view-in-github",
        "colab_type": "text"
      },
      "source": [
        "<a href=\"https://colab.research.google.com/github/SirmaXX/veri_gorsellestirme_odevi/blob/main/Untitled3.ipynb\" target=\"_parent\"><img src=\"https://colab.research.google.com/assets/colab-badge.svg\" alt=\"Open In Colab\"/></a>"
      ]
    },
    {
      "cell_type": "code",
      "execution_count": 6,
      "metadata": {
        "colab": {
          "base_uri": "https://localhost:8080/"
        },
        "id": "fV9fEZsXYwBS",
        "outputId": "e69b7456-b77e-4061-9f3d-bf60bf16e8dd"
      },
      "outputs": [
        {
          "output_type": "stream",
          "name": "stdout",
          "text": [
            "Lowest president' order: 4\n",
            "Lowest president' name: James Madison\n",
            "Lowest president' height: 163\n",
            "Highest president' order: 16\n",
            "Highest president' name: Abraham Lincoln\n",
            "Highest president' height: 193\n"
          ]
        }
      ],
      "source": [
        "import pandas as pd\n",
        "veri=pd.read_csv('president_heights.csv')\n",
        "order=pd.array(veri['order'])\n",
        "name=pd.array(veri['name'])\n",
        "height=pd.array(veri['height(cm)'])\n",
        "print(\"Lowest president' order:\", veri['order'][height.argmin()])\n",
        "print(\"Lowest president' name:\", veri['name'][height.argmin()])\n",
        "print(\"Lowest president' height:\", height.min())\n",
        "print(\"Highest president' order:\", veri['order'][height.argmax()])\n",
        "print(\"Highest president' name:\", veri['name'][height.argmax()])\n",
        "print(\"Highest president' height:\", height.max())\n",
        "\n"
      ]
    }
  ]
}